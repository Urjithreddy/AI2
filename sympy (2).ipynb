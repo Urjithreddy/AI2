{
 "cells": [
  {
   "cell_type": "markdown",
   "metadata": {},
   "source": [
    "SymPy, a powerful Python library for symbolic mathematics, can be used to work with propositional logic expressions. Propositional logic deals with propositions (statements that are either true or false) and logical operators (such as AND, OR, NOT) that manipulate these propositions. In SymPy, you can work with propositional logic using its symbolic capabilities. Here's a detailed explanation of how to use SymPy for propositional logic:\n",
    "\n"
   ]
  },
  {
   "cell_type": "markdown",
   "metadata": {},
   "source": [
    "# 1. **Import SymPy:**\n",
    "   Start by importing the SymPy library.\n"
   ]
  },
  {
   "cell_type": "code",
   "execution_count": 1,
   "metadata": {},
   "outputs": [],
   "source": [
    "from sympy import symbols, Not, And, Or, Implies, Equivalent,simplify"
   ]
  },
  {
   "cell_type": "markdown",
   "metadata": {},
   "source": [
    "# 2. **Define Propositional Variables:**\n",
    "   Define symbolic variables to represent propositions. You can use `symbols` to create variables.\n"
   ]
  },
  {
   "cell_type": "code",
   "execution_count": 2,
   "metadata": {},
   "outputs": [],
   "source": [
    "# Define propositional variables\n",
    "p, q, r = symbols('p q r')\n"
   ]
  },
  {
   "cell_type": "markdown",
   "metadata": {},
   "source": [
    "# 3. **Create Propositional Expressions:**\n",
    "   Build propositional logic expressions using the variables and logical operators.\n"
   ]
  },
  {
   "cell_type": "code",
   "execution_count": 3,
   "metadata": {},
   "outputs": [
    {
     "name": "stdout",
     "output_type": "stream",
     "text": [
      "negation ~p\n",
      "Conjunction p & q\n",
      "Disjunction p | q\n",
      "Implication Implies(p, q)\n",
      "biimplies Equivalent(p, q)\n"
     ]
    }
   ],
   "source": [
    "#NOT (Negation):\n",
    "not_p = Not(p)\n",
    "     \n",
    "#AND (Conjunction):\n",
    "p_and_q = And(p, q)\n",
    " \n",
    "#OR (Disjunction):\n",
    "p_or_q = Or(p, q)\n",
    "\n",
    "#IMPLIES (Implication):\n",
    "p_implies_q = Implies(p, q)\n",
    "\n",
    "#EQUIVALENT (Equivalence):\n",
    "p_biimplies_q = Equivalent(p,q)\n",
    " \n",
    "print(\"negation\",not_p) \n",
    "print(\"Conjunction\",p_and_q)\n",
    "print(\"Disjunction\",p_or_q)\n",
    "print(\"Implication\",p_implies_q)\n",
    "print(\"biimplies\",p_biimplies_q)"
   ]
  },
  {
   "cell_type": "markdown",
   "metadata": {},
   "source": [
    "# 4. Evaluate Expressions:\n",
    "   You can evaluate these expressions for specific truth values of the variables using the `subs` method."
   ]
  },
  {
   "cell_type": "code",
   "execution_count": 4,
   "metadata": {},
   "outputs": [
    {
     "name": "stdout",
     "output_type": "stream",
     "text": [
      "negation False\n",
      "Conjunction False\n",
      "Disjunction True\n",
      "Implication False\n",
      "BIImplication False\n",
      "True\n"
     ]
    }
   ],
   "source": [
    "# Substitute truth values\n",
    "truth_values = {p: True, q: False,r:True}\n",
    "pandq = p_and_q.subs(truth_values)\n",
    "porq = p_or_q.subs(truth_values)\n",
    "notp = not_p.subs(truth_values)\n",
    "pimpliesq = p_implies_q.subs(truth_values)\n",
    "pbiimpliesq = p_biimplies_q.subs(truth_values)\n",
    "\n",
    "print(\"negation\",notp) \n",
    "print(\"Conjunction\",pandq)\n",
    "print(\"Disjunction\",porq)\n",
    "print(\"Implication\",pimpliesq)\n",
    "print(\"BIImplication\",pbiimpliesq)\n",
    "\n",
    "print(Not(And(p,q)).subs(truth_values))\n",
    "\n"
   ]
  },
  {
   "cell_type": "markdown",
   "metadata": {},
   "source": [
    "# 5.Generate Truth Tables:\n",
    "   SymPy provides a convenient way to generate truth tables for expressions.\n"
   ]
  },
  {
   "cell_type": "code",
   "execution_count": 5,
   "metadata": {
    "scrolled": true
   },
   "outputs": [
    {
     "name": "stdout",
     "output_type": "stream",
     "text": [
      "AND\n",
      "([0, 0], False)\n",
      "([0, 1], False)\n",
      "([1, 0], False)\n",
      "([1, 1], True)\n",
      "OR\n",
      "([0, 0], False)\n",
      "([0, 1], True)\n",
      "([1, 0], True)\n",
      "([1, 1], True)\n",
      "NOT\n",
      "([0, 0], 0)\n",
      "([0, 1], 0)\n",
      "([1, 0], 1)\n",
      "([1, 1], 1)\n",
      "IMPLIES\n",
      "([0, 0], True)\n",
      "([0, 1], True)\n",
      "([1, 0], False)\n",
      "([1, 1], True)\n",
      "BIIMPLIES\n",
      "([1, 1], True)\n",
      "([1, 1], True)\n",
      "([1, 1], True)\n",
      "([1, 1], True)\n"
     ]
    }
   ],
   "source": [
    "from sympy.logic.boolalg import truth_table\n",
    "var=[p,q]\n",
    "expr1=p_and_q\n",
    "expr2=p_or_q\n",
    "expr3=not_p\n",
    "expr4=p_implies_q\n",
    "expr5=p_biimplies_q\n",
    "print(\"AND\")\n",
    "tt1 = truth_table(expr1,var)\n",
    "for row1 in tt1:\n",
    "    print(row1)\n",
    "\n",
    "print(\"OR\")\n",
    "tt2 = truth_table(expr2,var)\n",
    "for row2 in tt2:\n",
    "    print(row2)\n",
    "\n",
    "print(\"NOT\")\n",
    "tt3 = truth_table(p,var)\n",
    "for row3 in tt3:\n",
    "    print(row3)\n",
    "\n",
    "print(\"IMPLIES\")\n",
    "tt4 = truth_table(expr4,var)\n",
    "for row4 in tt4:\n",
    "    print(row4)\n",
    "\n",
    "print(\"BIIMPLIES\")\n",
    "tt5 = truth_table(expr5,var)\n",
    "for row5 in tt5:\n",
    "    print(row4)\n",
    "\n",
    "\n"
   ]
  },
  {
   "cell_type": "code",
   "execution_count": 6,
   "metadata": {},
   "outputs": [
    {
     "name": "stdout",
     "output_type": "stream",
     "text": [
      "[([0, 0, 0], False), ([0, 0, 1], False), ([0, 1, 0], False), ([0, 1, 1], False), ([1, 0, 0], False), ([1, 0, 1], False), ([1, 1, 0], False), ([1, 1, 1], True)]\n"
     ]
    }
   ],
   "source": [
    "s,t,u=symbols('s t u')\n",
    "t1 = truth_table(And(s,t,u),[s,t,u])\n",
    "print(list(t1))\n"
   ]
  },
  {
   "cell_type": "markdown",
   "metadata": {},
   "source": [
    "# **6.Print Expressions:**\n",
    "   You can print expressions in a human-readable form using the `pprint` function.\n"
   ]
  },
  {
   "cell_type": "code",
   "execution_count": 7,
   "metadata": {},
   "outputs": [
    {
     "name": "stdout",
     "output_type": "stream",
     "text": [
      "p ∨ q\n",
      "p ∧ q\n",
      "¬p\n",
      "p ⇔ q\n"
     ]
    }
   ],
   "source": [
    "from sympy import pprint\n",
    "\n",
    "pprint(p_or_q, use_unicode=True)\n",
    "pprint(p_and_q, use_unicode=True)\n",
    "pprint(not_p, use_unicode=True)\n",
    "pprint(p_biimplies_q, use_unicode=True)"
   ]
  },
  {
   "cell_type": "markdown",
   "metadata": {},
   "source": [
    "# 7.Simplification: SymPy can simplify logical expressions to their simplest forms using the simplify function:"
   ]
  },
  {
   "cell_type": "code",
   "execution_count": 8,
   "metadata": {},
   "outputs": [
    {
     "name": "stdout",
     "output_type": "stream",
     "text": [
      "(p & q) | (p & r)\n",
      "p & (q | r)\n"
     ]
    }
   ],
   "source": [
    "from sympy import simplify\n",
    "\n",
    "expr = Or(And(p, q), And(p, r))\n",
    "simplified_expr = simplify(expr)\n",
    "print(expr)\n",
    "print(simplified_expr)\n"
   ]
  },
  {
   "cell_type": "markdown",
   "metadata": {},
   "source": [
    "# 8. LOGICAL EQUIVALENCE"
   ]
  },
  {
   "cell_type": "code",
   "execution_count": 9,
   "metadata": {},
   "outputs": [
    {
     "name": "stdout",
     "output_type": "stream",
     "text": [
      "Demorgan's Law\n",
      "Equivalent(~(p & q), ~p | ~q)\n",
      "True\n",
      "Contraposition  Law\n",
      "Equivalent(Implies(p, q), Implies(~q, ~p))\n",
      "True\n"
     ]
    }
   ],
   "source": [
    "from sympy import Equivalent\n",
    "print(\"Demorgan's Law\")\n",
    "expr1 = Not(And(p, q))\n",
    "expr2 = Or(Not(p), Not(q))\n",
    "Demorganequiv = Equivalent(expr1, expr2)\n",
    "print(Demorganequiv)\n",
    "print(simplify(Demorganequiv))\n",
    "\n",
    "print(\"Contraposition  Law\")\n",
    "\n",
    "expr3=Implies(p,q)\n",
    "expr4=Implies(Not(q),Not(p))\n",
    "contrapositionequiv = Equivalent(expr3, expr4)\n",
    "print(contrapositionequiv)\n",
    "print(simplify(contrapositionequiv))\n",
    "\n"
   ]
  },
  {
   "cell_type": "markdown",
   "metadata": {},
   "source": [
    "# Logically equivalent rules"
   ]
  },
  {
   "cell_type": "code",
   "execution_count": 10,
   "metadata": {},
   "outputs": [
    {
     "name": "stdout",
     "output_type": "stream",
     "text": [
      "Rule 1: De Morgan's Laws\n",
      "Result: ~p | ~q\n",
      "\n",
      "Rule 2: Distribution (AND over OR)\n",
      "Result: (p | q) & (p | r)\n",
      "\n",
      "Rule 3: Implication Elimination\n",
      "Result: q | ~p\n",
      "\n",
      "Rule 4: Bi-Implication Elimination\n",
      "Result: (p | ~q) & (q | ~p)\n",
      "\n",
      "Rule 5: Double Negation\n",
      "Result: p\n",
      "\n",
      "Rule 6: Idempotent Law\n",
      "Result: p\n",
      "\n",
      "Rule 7: Negation of True and False\n",
      "Result: False\n",
      "\n",
      "Result: True\n",
      "\n"
     ]
    }
   ],
   "source": [
    "from sympy import symbols, Not, And, Or, Implies, Equivalent\n",
    "from sympy.logic.boolalg import to_cnf\n",
    "\n",
    "# Define symbolic variables\n",
    "p, q, r = symbols('p q r')\n",
    "\n",
    "\n",
    "# Apply and display logical equivalence rules to original expressions\n",
    "print(\"Rule 1: De Morgan's Laws\")\n",
    "rule1_result = to_cnf(Not(And(p, q)))\n",
    "print(\"Result:\", rule1_result)\n",
    "print()\n",
    "\n",
    "print(\"Rule 2: Distribution (AND over OR)\")\n",
    "rule2_result = to_cnf(Or(p, And(q, r)))\n",
    "print(\"Result:\", rule2_result)\n",
    "print()\n",
    "\n",
    "print(\"Rule 3: Implication Elimination\")\n",
    "rule3_result = to_cnf(Implies(p, q))\n",
    "print(\"Result:\", rule3_result)\n",
    "print()\n",
    "\n",
    "print(\"Rule 4: Bi-Implication Elimination\")\n",
    "rule4_result = to_cnf(Equivalent(p, q))\n",
    "print(\"Result:\", rule4_result)\n",
    "print()\n",
    "\n",
    "print(\"Rule 5: Double Negation\")\n",
    "rule5_result = to_cnf(Not(Not(p)))\n",
    "print(\"Result:\", rule5_result)\n",
    "print()\n",
    "\n",
    "print(\"Rule 6: Idempotent Law\")\n",
    "rule6_result = to_cnf(Or(p, p))\n",
    "print(\"Result:\", rule6_result)\n",
    "print()\n",
    "\n",
    "\n",
    "print(\"Rule 7: Negation of True and False\")\n",
    "rule7_result = to_cnf(Not(True))\n",
    "print(\"Result:\", rule7_result)\n",
    "print()\n",
    "rule8_result = to_cnf(Not(False))\n",
    "print(\"Result:\", rule8_result)\n",
    "print()\n",
    "\n"
   ]
  },
  {
   "cell_type": "markdown",
   "metadata": {},
   "source": [
    "# 9.CNF and DNF Conversion: \n",
    "SymPy can convert logical expressions to Conjunctive Normal Form (CNF) and Disjunctive Normal Form (DNF) using the to_cnf and to_dnf functions, respectively:"
   ]
  },
  {
   "cell_type": "code",
   "execution_count": 11,
   "metadata": {},
   "outputs": [
    {
     "name": "stdout",
     "output_type": "stream",
     "text": [
      "Equivalent(p, q | r)\n",
      "(p | ~q) & (p | ~r) & (q | r | ~p)\n",
      "(p & q) | (p & r) | (p & ~p) | (q & ~q & ~r) | (r & ~q & ~r) | (~p & ~q & ~r)\n"
     ]
    }
   ],
   "source": [
    "from sympy import to_cnf, to_dnf\n",
    "\n",
    "expr = Equivalent(p,Or(q,r))\n",
    "cnf_expr = to_cnf(expr)\n",
    "dnf_expr = to_dnf(expr)\n",
    "print(expr)\n",
    "print(cnf_expr)\n",
    "print(dnf_expr)"
   ]
  },
  {
   "cell_type": "markdown",
   "metadata": {},
   "source": [
    "# Wumpus world example"
   ]
  },
  {
   "cell_type": "code",
   "execution_count": 12,
   "metadata": {},
   "outputs": [
    {
     "name": "stdout",
     "output_type": "stream",
     "text": [
      "(B1_1 | ~P1_2) & (B1_1 | ~P2_1) & (P1_2 | P2_1 | ~B1_1)\n"
     ]
    }
   ],
   "source": [
    "from sympy import symbols, Not, Or, And, to_cnf, Equivalent\n",
    "\n",
    "# Define the propositional variables\n",
    "B1_1, P1_2, P2_1 = symbols('B1_1 P1_2 P2_1')\n",
    "\n",
    "# Define the original formula R2\n",
    "R2 = Equivalent(B1_1, Or(P1_2, P2_1))\n",
    "\n",
    "# Convert R2 to CNF\n",
    "cnf_R2 = to_cnf(R2, True)\n",
    "\n",
    "# Print the CNF expression for R2\n",
    "print(cnf_R2)\n",
    "\n"
   ]
  },
  {
   "cell_type": "markdown",
   "metadata": {},
   "source": [
    "# 10. Entailment"
   ]
  },
  {
   "cell_type": "code",
   "execution_count": 13,
   "metadata": {},
   "outputs": [
    {
     "name": "stdout",
     "output_type": "stream",
     "text": [
      "The premise entails the conclusion: True\n"
     ]
    }
   ],
   "source": [
    "from sympy import symbols, Implies\n",
    "\n",
    "# Define symbolic variables\n",
    "A, B = symbols('A B')\n",
    "\n",
    "# Define the premise and conclusion\n",
    "premise = A\n",
    "conclusion = Implies(A, B)\n",
    "\n",
    "# Check if the premise entails the conclusion\n",
    "entails = not (premise and (not conclusion))\n",
    "\n",
    "\n",
    "# Print the result\n",
    "print(\"The premise entails the conclusion:\", entails)\n"
   ]
  },
  {
   "cell_type": "markdown",
   "metadata": {},
   "source": [
    "# Wumpus world examples"
   ]
  },
  {
   "cell_type": "code",
   "execution_count": 14,
   "metadata": {},
   "outputs": [
    {
     "name": "stdout",
     "output_type": "stream",
     "text": [
      "The knowledge base holds for the given case: True\n"
     ]
    }
   ],
   "source": [
    "from sympy import symbols, Implies, And\n",
    "\n",
    "# Define symbolic variables\n",
    "W11, S12 = symbols('W11 S12')\n",
    "\n",
    "# Define the knowledge base (rules)\n",
    "knowledge_base = [\n",
    "    Implies(W11, S12),  # If there's a Wumpus in (1, 1), there's a stench in (1, 2)\n",
    "]\n",
    "\n",
    "# Check if the knowledge base holds for the given case\n",
    "case_holds = all(rule.subs({W11: True, S12: True}) for rule in knowledge_base)\n",
    "\n",
    "print(\"The knowledge base holds for the given case:\", case_holds)\n",
    "\n"
   ]
  },
  {
   "cell_type": "code",
   "execution_count": 15,
   "metadata": {},
   "outputs": [
    {
     "name": "stdout",
     "output_type": "stream",
     "text": [
      "The knowledge base entails 'there is no pit in (1, 2)': True\n"
     ]
    }
   ],
   "source": [
    "from sympy import symbols, Implies, And, Or, Not\n",
    "\n",
    "# Define symbolic variables for pits in locations (1, 2), (2, 2), and (3, 1)\n",
    "P12, P22, P31 = symbols('P12 P22 P31')\n",
    "\n",
    "# Define symbolic variables for breezes in adjacent locations\n",
    "B11, B13, B21, B23, B32, B33 = symbols('B11 B13 B21 B23 B32 B33')\n",
    "\n",
    "# Define the knowledge base rules\n",
    "knowledge_base_rules = [\n",
    "    Implies(P12, Or(B11, B13)),  # If there's a pit in (1, 2), there's a breeze in (1, 1) or (1, 3)\n",
    "    Implies(P22, Or(B21, B23, B32)),  # If there's a pit in (2, 2), there's a breeze in (2, 1), (2, 3), or (3, 2)\n",
    "    Implies(P31, Or(B32, B33)),  # If there's a pit in (3, 1), there's a breeze in (3, 2) or (3, 3)\n",
    "    \n",
    "    # Rule to ensure there is no pit in (1, 2)\n",
    "    Not(P12)\n",
    "]\n",
    "\n",
    "# Check if the knowledge base holds for the given case\n",
    "knowledge_base_holds = all(rule for rule in knowledge_base_rules)\n",
    "\n",
    "# Print the result of the entailment check\n",
    "print(\"The knowledge base entails 'there is no pit in (1, 2)':\", knowledge_base_holds)\n"
   ]
  },
  {
   "cell_type": "markdown",
   "metadata": {},
   "source": [
    "# 11.Validity"
   ]
  },
  {
   "cell_type": "code",
   "execution_count": 16,
   "metadata": {},
   "outputs": [
    {
     "name": "stdout",
     "output_type": "stream",
     "text": [
      "The formula is valid.\n"
     ]
    }
   ],
   "source": [
    "from sympy import symbols, And, Not, Or, Implies, Equivalent, satisfiable\n",
    "\n",
    "# Define symbolic variables\n",
    "p, q, r = symbols('p q r')\n",
    "\n",
    "# Define a propositional logic formula\n",
    "# Replace this formula with the one you want to check for validity\n",
    "formula = Or(p,Not(p))\n",
    "#formula = Implies(p,q) #invalid formula\n",
    "# Check if the formula is valid\n",
    "is_valid = True\n",
    "\n",
    "# Generate all possible truth assignments for the variables\n",
    "for p_value in (True, False):\n",
    "    for q_value in (True, False):\n",
    "        # Evaluate the formula under the current truth assignment\n",
    "        current_assignment = {p: p_value, q: q_value}\n",
    "        if not formula.subs(current_assignment):\n",
    "            # If the formula is false for any assignment, it's not valid\n",
    "            is_valid = False\n",
    "            break\n",
    "\n",
    "# Display the result\n",
    "if is_valid:\n",
    "    print(\"The formula is valid.\")\n",
    "else:\n",
    "    print(\"The formula is not valid.\")\n"
   ]
  },
  {
   "cell_type": "markdown",
   "metadata": {},
   "source": [
    "# 12. Satisfiability"
   ]
  },
  {
   "cell_type": "code",
   "execution_count": 17,
   "metadata": {},
   "outputs": [
    {
     "name": "stdout",
     "output_type": "stream",
     "text": [
      "The formula is satisfiable.\n",
      "Satisfying assignment: {q: True, p: True}\n"
     ]
    }
   ],
   "source": [
    "from sympy import symbols, And, Not, Or, Implies, Equivalent, satisfiable\n",
    "\n",
    "# Define symbolic variables\n",
    "p, q, r = symbols('p q r')\n",
    "\n",
    "# Define a propositional logic formula\n",
    "# Replace this formula with the one you want to check for satisfiability\n",
    "formula=And(p,q)\n",
    "#formula = And(p,Not(p)) #unsatisfiable formula\n",
    "\n",
    "# Check if the formula is satisfiable\n",
    "satisfiable_assignment = satisfiable(formula)\n",
    "\n",
    "if satisfiable_assignment:\n",
    "    print(\"The formula is satisfiable.\")\n",
    "    print(\"Satisfying assignment:\", satisfiable_assignment)\n",
    "else:\n",
    "    print(\"The formula is not satisfiable.\")\n"
   ]
  },
  {
   "cell_type": "code",
   "execution_count": null,
   "metadata": {},
   "outputs": [],
   "source": []
  }
 ],
 "metadata": {
  "celltoolbar": "Slideshow",
  "kernelspec": {
   "display_name": "Python 3",
   "language": "python",
   "name": "python3"
  },
  "language_info": {
   "codemirror_mode": {
    "name": "ipython",
    "version": 3
   },
   "file_extension": ".py",
   "mimetype": "text/x-python",
   "name": "python",
   "nbconvert_exporter": "python",
   "pygments_lexer": "ipython3",
   "version": "3.8.3"
  }
 },
 "nbformat": 4,
 "nbformat_minor": 4
}
