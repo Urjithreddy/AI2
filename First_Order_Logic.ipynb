{
  "nbformat": 4,
  "nbformat_minor": 0,
  "metadata": {
    "colab": {
      "provenance": []
    },
    "kernelspec": {
      "name": "python3",
      "display_name": "Python 3"
    },
    "language_info": {
      "name": "python"
    }
  },
  "cells": [
    {
      "cell_type": "code",
      "source": [],
      "metadata": {
        "id": "HEIgAE3qAkP9"
      },
      "execution_count": null,
      "outputs": []
    },
    {
      "cell_type": "code",
      "execution_count": null,
      "metadata": {
        "colab": {
          "base_uri": "https://localhost:8080/"
        },
        "id": "VIuHM0RjAC-f",
        "outputId": "5d89329a-3107-4403-cecb-a7592f78f05a"
      },
      "outputs": [
        {
          "output_type": "stream",
          "name": "stdout",
          "text": [
            "X   \n",
            "----\n",
            "John\n",
            "Y   \n",
            "----\n",
            "fish\n",
            "Z   \n",
            "----\n",
            "Rani\n"
          ]
        }
      ],
      "source": [
        "#basic pyDatalog usage\n",
        "from pyDatalog import pyDatalog\n",
        "\n",
        "# Define the PyDatalog facts for the g+iven atomic sentences\n",
        "pyDatalog.create_terms('has_leg, likes, brother_of, X, Y, Z')\n",
        "\n",
        "# John has a leg\n",
        "+ has_leg('John')\n",
        "\n",
        "# Raju likes fish\n",
        "+ likes('Raju', 'fish')\n",
        "\n",
        "# Raju is the brother of Rani\n",
        "+ brother_of('Raju', 'Rani')\n",
        "\n",
        "# Query the facts and print the results\n",
        "print(has_leg(X))  # Query if someone has a leg\n",
        "print(likes('Raju', Y))  # Query if Raju likes something and get the result in Y\n",
        "print(brother_of('Raju', Z))  # Query if Raju is the brother of someone and get the result in Z\n"
      ]
    },
    {
      "cell_type": "code",
      "source": [
        "#Employee salaries\n",
        "# Define some facts\n",
        "pyDatalog.create_terms('employee, salary')\n",
        "+ employee('Alice', 50000)\n",
        "+ employee('Bob', 60000)\n",
        "\n",
        "# Query data\n",
        "print(employee(X, Y))  # Query all employees and their salaries\n"
      ],
      "metadata": {
        "colab": {
          "base_uri": "https://localhost:8080/"
        },
        "id": "2X2YlFibAkhg",
        "outputId": "74b7a906-fc49-4373-cf9f-ade6680d83f5"
      },
      "execution_count": null,
      "outputs": [
        {
          "output_type": "stream",
          "name": "stdout",
          "text": [
            "X     | Y    \n",
            "------|------\n",
            "Bob   | 60000\n",
            "Alice | 50000\n"
          ]
        }
      ]
    },
    {
      "cell_type": "code",
      "source": [
        "# Ancestor Relationship\n",
        "# Define facts and rules\n",
        "pyDatalog.create_terms('parent, ancestor, X, Y, Z')\n",
        "+ parent('alex', 'sharon')\n",
        "+ parent('sharon', 'Charlie')\n",
        "ancestor(X, Y) <= parent(X, Y)\n",
        "ancestor(X, Y) <= (parent(X, Z) & ancestor(Z, Y))\n",
        "\n",
        "# Query for ancestors\n",
        "print(ancestor(X, 'Charlie'))\n"
      ],
      "metadata": {
        "colab": {
          "base_uri": "https://localhost:8080/"
        },
        "id": "K2Isngm_BMDi",
        "outputId": "bb1fc064-6a1f-46a1-c308-be7214774615"
      },
      "execution_count": null,
      "outputs": [
        {
          "output_type": "stream",
          "name": "stdout",
          "text": [
            "X     \n",
            "------\n",
            "alex  \n",
            "sharon\n"
          ]
        }
      ]
    },
    {
      "cell_type": "code",
      "source": [
        "#Grandparent relationship\n",
        "# Define some facts\n",
        "pyDatalog.create_terms('parent1, grandparent')\n",
        "+ parent1('Alan', 'Bobby')\n",
        "+ parent1('Bobby', 'ange')\n",
        "+ parent1('ange', 'Danny')\n",
        "# Define a rule\n",
        "grandparent(X, Y) <= (parent1(X, Z) & parent1(Z, Y))\n",
        "# Query for all grandparents\n",
        "result = grandparent(X, Y)\n",
        "print(result)\n"
      ],
      "metadata": {
        "colab": {
          "base_uri": "https://localhost:8080/"
        },
        "id": "rDze1k17Bqgs",
        "outputId": "78cd4111-a8cd-4ef3-8732-e99993ba3024"
      },
      "execution_count": null,
      "outputs": [
        {
          "output_type": "stream",
          "name": "stdout",
          "text": [
            "X     | Y    \n",
            "------|------\n",
            "Bobby | Danny\n",
            "Alan  | ange \n"
          ]
        }
      ]
    },
    {
      "cell_type": "code",
      "source": [
        "#Voting eligibility\n",
        "# Define some facts\n",
        "pyDatalog.create_terms('age, citizen, can_vote, X, A')\n",
        "+ age('Alice', 20)\n",
        "+ citizen('Alice', 'USA')\n",
        "+ age('JOHN', 10)\n",
        "+ citizen('Alice', 'USA')\n",
        "\n",
        "can_vote(X) <= (age(X, A) & citizen(X, 'USA') & (A > 18))\n",
        "result = can_vote(X)\n",
        "print(result)\n"
      ],
      "metadata": {
        "colab": {
          "base_uri": "https://localhost:8080/"
        },
        "id": "FumpwfcACT7s",
        "outputId": "203b1df9-2fb2-4d24-b993-c8bfa4f7c265"
      },
      "execution_count": null,
      "outputs": [
        {
          "output_type": "stream",
          "name": "stdout",
          "text": [
            "X    \n",
            "-----\n",
            "Alice\n"
          ]
        }
      ]
    },
    {
      "cell_type": "code",
      "source": [
        "# Low Stock Products\n",
        "# Define some facts\n",
        "pyDatalog.create_terms('has, low_stock, X, Q')\n",
        "+ has('ProductA', 2)\n",
        "+ has('ProductB', 5)\n",
        "+ has('ProductC', 15)\n",
        "low_stock(X) <= (has(X, Q) & (Q < 10))\n",
        "result = low_stock(X)\n",
        "print(result)\n"
      ],
      "metadata": {
        "colab": {
          "base_uri": "https://localhost:8080/"
        },
        "id": "ju5BG1KKCe9d",
        "outputId": "6854f838-f523-4619-c796-c7d35006bfb8"
      },
      "execution_count": null,
      "outputs": [
        {
          "output_type": "stream",
          "name": "stdout",
          "text": [
            "X       \n",
            "--------\n",
            "ProductB\n",
            "ProductA\n"
          ]
        }
      ]
    },
    {
      "cell_type": "code",
      "source": [
        "# Course Pre-requisites\n",
        "# Define some facts\n",
        "pyDatalog.create_terms('enrolled, prerequisite, can_take, X, Y')\n",
        "\n",
        "+ enrolled('Alice', 'Math101')\n",
        "+ enrolled('Alice', 'CS101')\n",
        "+ prerequisite('CS101', 'Math101')\n",
        "+ prerequisite('Math101', 'Math102')\n",
        "can_take('Alice', X) <= (enrolled('Alice', Y) & prerequisite(Y, X))\n",
        "result = can_take('Alice', X)\n",
        "print(result)\n"
      ],
      "metadata": {
        "colab": {
          "base_uri": "https://localhost:8080/"
        },
        "id": "K1oUqCTDCr5y",
        "outputId": "aca8721c-faa3-4986-93d3-217e5fc8404d"
      },
      "execution_count": null,
      "outputs": [
        {
          "output_type": "stream",
          "name": "stdout",
          "text": [
            "X      \n",
            "-------\n",
            "Math101\n",
            "Math102\n"
          ]
        }
      ]
    },
    {
      "cell_type": "code",
      "source": [
        "# Evil Kings\n",
        "# Define the domain of individuals\n",
        "pyDatalog.create_terms('king, greedy, evil, X')\n",
        "\n",
        "# Define the set of individuals who are kings and greedy\n",
        "+ king('john')\n",
        "+ greedy('john')\n",
        "+ king('jack')\n",
        "+ greedy('jack')\n",
        "+ king('tom')\n",
        "\n",
        "evil(X) <= (king(X) & greedy(X))\n",
        "\n",
        "# Query to find individuals who are both kings and greedy\n",
        "result = evil(X)\n",
        "print(result)\n"
      ],
      "metadata": {
        "colab": {
          "base_uri": "https://localhost:8080/"
        },
        "id": "GSCQhFJ4DBNr",
        "outputId": "efb7e26c-92fd-4748-fb4c-0236e91946b2"
      },
      "execution_count": null,
      "outputs": [
        {
          "output_type": "stream",
          "name": "stdout",
          "text": [
            "X   \n",
            "----\n",
            "jack\n",
            "john\n"
          ]
        }
      ]
    },
    {
      "cell_type": "code",
      "source": [
        "# Students witb Grade A\n",
        "from pyDatalog import pyDatalog\n",
        "\n",
        "# Creating terms\n",
        "pyDatalog.create_terms('student, grade, X')\n",
        "\n",
        "# Defining facts\n",
        "+ student('Alice')\n",
        "+ student('Bob')\n",
        "+ student('Charlie')\n",
        "+ grade('Alice', 'A')\n",
        "\n",
        "# Querying for students with grade 'A'\n",
        "results = grade(X, 'A')\n",
        "\n",
        "# Printing the results in a user-friendly format\n",
        "for result in results:\n",
        "    print(f\"Student {result[0]} received a grade of 'A'.\")\n"
      ],
      "metadata": {
        "colab": {
          "base_uri": "https://localhost:8080/"
        },
        "id": "Aop7JQoLDJ0q",
        "outputId": "9a1fb248-8fbe-4160-dcc2-fa52eb51b8c5"
      },
      "execution_count": null,
      "outputs": [
        {
          "output_type": "stream",
          "name": "stdout",
          "text": [
            "Student Alice received a grade of 'A'.\n"
          ]
        }
      ]
    }
  ]
}